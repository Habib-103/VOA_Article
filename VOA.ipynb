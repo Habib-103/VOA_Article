{
 "cells": [
  {
   "cell_type": "code",
   "execution_count": null,
   "metadata": {},
   "outputs": [],
   "source": [
    "%matplotlib inline"
   ]
  },
  {
   "cell_type": "code",
   "execution_count": null,
   "metadata": {},
   "outputs": [],
   "source": [
    "import pandas as pd\n",
    "import numpy as np\n",
    "import matplotlib.pyplot as plt\n",
    "import seaborn as sns\n",
    "from urllib.request import urlopen\n",
    "from bs4 import BeautifulSoup\n",
    "from collections import Counter"
   ]
  },
  {
   "cell_type": "code",
   "execution_count": null,
   "metadata": {},
   "outputs": [],
   "source": [
    "from urllib.request import urlopen\n",
    "from bs4 import BeautifulSoup\n",
    "from collections import Counter"
   ]
  },
  {
   "cell_type": "code",
   "execution_count": null,
   "metadata": {},
   "outputs": [],
   "source": [
    "url = \"https://learningenglish.voanews.com/apiXXXXXXXXXXXXXXXXx\"\n",
    "html = urlopen(url)"
   ]
  },
  {
   "cell_type": "code",
   "execution_count": null,
   "metadata": {},
   "outputs": [],
   "source": [
    "soup = BeautifulSoup(html, 'lxml')\n",
    "type(soup)"
   ]
  },
  {
   "cell_type": "code",
   "execution_count": null,
   "metadata": {},
   "outputs": [],
   "source": [
    "title = soup.title\n",
    "print(title)"
   ]
  },
  {
   "cell_type": "code",
   "execution_count": null,
   "metadata": {},
   "outputs": [],
   "source": [
    "text = soup.get_text()\n",
    "print(text)"
   ]
  },
  {
   "cell_type": "markdown",
   "metadata": {},
   "source": [
    "# Finding Title, Text, Category, Date"
   ]
  },
  {
   "cell_type": "code",
   "execution_count": 8,
   "metadata": {},
   "outputs": [],
   "source": [
    "import re"
   ]
  },
  {
   "cell_type": "code",
   "execution_count": 9,
   "metadata": {},
   "outputs": [],
   "source": [
    "item1 = soup.find_all(\"item\")\n",
    "stritem= str(item1)"
   ]
  },
  {
   "cell_type": "code",
   "execution_count": 10,
   "metadata": {},
   "outputs": [],
   "source": [
    "title = soup.find_all(\"item\")\n",
    "strtitle= str(title)"
   ]
  },
  {
   "cell_type": "code",
   "execution_count": 11,
   "metadata": {},
   "outputs": [],
   "source": [
    "categoty = soup.find_all(\"item\")\n",
    "strcategory= str(categoty)"
   ]
  },
  {
   "cell_type": "code",
   "execution_count": 12,
   "metadata": {},
   "outputs": [],
   "source": [
    "description = soup.find_all(\"item\")\n",
    "strdescription = str(description)"
   ]
  },
  {
   "cell_type": "code",
   "execution_count": 13,
   "metadata": {},
   "outputs": [],
   "source": [
    "pubdate = soup.find_all(\"pubdate\")\n",
    "strpubdate = str(pubdate)"
   ]
  },
  {
   "cell_type": "code",
   "execution_count": 14,
   "metadata": {},
   "outputs": [
    {
     "name": "stdout",
     "output_type": "stream",
     "text": [
      "[California Hmong in Mourning After Deadly Attack]\n"
     ]
    },
    {
     "data": {
      "text/plain": [
       "str"
      ]
     },
     "execution_count": 14,
     "metadata": {},
     "output_type": "execute_result"
    }
   ],
   "source": [
    "list_title = []\n",
    "for row in item1 :\n",
    "    cells = row.find_all('title')\n",
    "    stritem = str(cells)\n",
    "    clean = re.compile('<.*?>')\n",
    "    clean2 = (re.sub(clean, '', stritem))\n",
    "    list_title.append(clean2)\n",
    "print(clean2)\n",
    "type(clean2)"
   ]
  },
  {
   "cell_type": "code",
   "execution_count": 15,
   "metadata": {},
   "outputs": [
    {
     "name": "stdout",
     "output_type": "stream",
     "text": [
      "[As It Is, Read, Listen &amp; Learn, As It Is]\n"
     ]
    },
    {
     "data": {
      "text/plain": [
       "str"
      ]
     },
     "execution_count": 15,
     "metadata": {},
     "output_type": "execute_result"
    }
   ],
   "source": [
    "list_category = []\n",
    "for row in item1 :\n",
    "    cell1 = row.find_all('category')\n",
    "    strcategory = str(cell1)\n",
    "    clean = re.compile('<.*?>')\n",
    "    clean2 = (re.sub(clean, '', strcategory))\n",
    "    list_category.append(clean2)\n",
    "print(clean2)\n",
    "type(clean2)"
   ]
  },
  {
   "cell_type": "code",
   "execution_count": 16,
   "metadata": {},
   "outputs": [
    {
     "name": "stdout",
     "output_type": "stream",
     "text": [
      "[\r\n",
      "\r\n",
      " \r\n",
      "\r\n",
      "\r\n",
      "Members of the ethnic Hmong community in Fresno, California are in mourning after gunmen shot 10 men killing four over the weekend.\r\n",
      "\r\n",
      "\r\n",
      "Police said at least two men armed with semi-automatic handguns entered the backyard of a house and started shooting into a crowd. About 16 men had gathered there to watch a football game on television. The gunmen did not speak, and no one had a good look at them. Police said witnesses only saw flashes of gunfire in the dark.\r\n",
      "\r\n",
      "\r\n",
      "Sunday evening’s attack killed Xy Lee, a popular Hmong singer and musician. His YouTube videos have been viewed millions of times. Also killed were Phia Vang, Kou Xiong, and Kalaxang Thao. Officials said six were wounded including three in serious condition. Women and children inside the house were not hit.\r\n",
      "\r\n",
      "\r\n",
      "Pao Yang is head of the Fresno Center, a Hmong community group. He said, “Our community is in mourning, and we still don’t know what’s going on, or who are the suspects.”\r\n",
      "\r\n",
      "\r\n",
      "On Xy Lee’s YouTube channel, one fan wrote, “We will miss you so, so, so much brother Xy. Rest well. We will meet again.” Another added, “Your songs hit hard this time around. RIP brother.”\r\n",
      "\r\n",
      "\r\n",
      "Paula Yang is a friend of the homeowner, whose brother, Kou Xiong, died in the attack. She said the shooting has many in the community fearful.\r\n",
      "\r\n",
      "\r\n",
      "Yang said, “Even right now, families are gathering inside saying, what can we do to protect our home from this day forward?”\r\n",
      "\r\n",
      "\r\n",
      "The Hmong are an ethnic group from the mountain areas separating Laos and Vietnam. Many fled after fighting alongside the United States during the Vietnam War. The 2017 census estimates about 300,000 Hmong live in the U.S., including 25,000 in Fresno.\r\n",
      "\r\n",
      "\r\n",
      "\r\n",
      "\r\n",
      "\r\n",
      "\r\n",
      "The Fresno police chief said, “This is truly a good group of people who were simply having a party.” However, the police are investigating whether the shooting was connected to a recent “disturbance” involving some of the people at the party.\r\n",
      "\r\n",
      "\r\n",
      "While they had not found any gang connections to the victims, Fresno police are concerned about the possibility of retaliation or more violence ahead of the Hmong New Year. The celebration comes the week after Christmas and draws thousands of Hmong to Fresno.\r\n",
      "\r\n",
      "\r\n",
      "Police said there have been 11 violent incidents related to Asian gangs in Fresno this year, three of them in November.\r\n",
      "\r\n",
      "\r\n",
      "The Fresno shooting was also the third mass shooting in four days in California.\r\n",
      "\r\n",
      "\r\n",
      "Last Thursday, a 16-year-old boy killed two students and wounded three others at his high school in Santa Clarita, near Los Angeles, before killing himself.\r\n",
      "\r\n",
      "\r\n",
      "On Saturday, a San Diego man shot and killed his wife and three of their sons before killing himself. A fourth son was on life-support.\r\n",
      "\r\n",
      "\r\n",
      "I'm Jonathan Evans.\r\n",
      "\r\n",
      "\r\n",
      " \r\n",
      "\r\n",
      "\r\n",
      "Hai Do adapted this AP story for VOA Learning English. Mario Ritter Jr. was the editor.\r\n",
      "\r\n",
      "\r\n",
      "Write to us in the Comments Section or on our Facebook page. \r\n",
      "\r\n",
      "\r\n",
      "_________________________________________________________________\r\n",
      "\r\n",
      "\r\n",
      "Words in This Story\r\n",
      "\r\n",
      " \r\n",
      "\r\n",
      "\r\n",
      "disturbance –n. noisy or violent behavior, especially in public\r\n",
      "\r\n",
      "\r\n",
      "gang –n. a group that is involved in criminal activities\r\n",
      "\r\n",
      "\r\n",
      "retaliation –n. something done in response to being hurt or mistreated, revenge\r\n",
      "\r\n",
      "]\n"
     ]
    },
    {
     "data": {
      "text/plain": [
       "str"
      ]
     },
     "execution_count": 16,
     "metadata": {},
     "output_type": "execute_result"
    }
   ],
   "source": [
    "list_description = []\n",
    "for row in item1 :\n",
    "    cell1 = row.find_all('description')\n",
    "    strdescription = str(cell1)\n",
    "    clean = re.compile('<.*?>')\n",
    "    clean2 = (re.sub(clean, '', strdescription))\n",
    "    list_description.append(clean2)\n",
    "print(clean2)\n",
    "type(clean2)"
   ]
  },
  {
   "cell_type": "code",
   "execution_count": 17,
   "metadata": {},
   "outputs": [
    {
     "name": "stdout",
     "output_type": "stream",
     "text": [
      "[Tue, 19 Nov 2019 22:57:31 +0000]\n"
     ]
    },
    {
     "data": {
      "text/plain": [
       "str"
      ]
     },
     "execution_count": 17,
     "metadata": {},
     "output_type": "execute_result"
    }
   ],
   "source": [
    "list_pubdate = []\n",
    "for row in item1 :\n",
    "    cell1 = row.find_all('pubdate')\n",
    "    strpubdate = str(cell1)\n",
    "    clean = re.compile('<.*?>')\n",
    "    clean2 = (re.sub(clean, '', strpubdate))\n",
    "    list_pubdate.append(clean2)\n",
    "print(clean2)\n",
    "type(clean2)"
   ]
  },
  {
   "cell_type": "code",
   "execution_count": 18,
   "metadata": {},
   "outputs": [],
   "source": [
    "wayone = pd.DataFrame(list_title)"
   ]
  },
  {
   "cell_type": "code",
   "execution_count": 19,
   "metadata": {},
   "outputs": [],
   "source": [
    "wayone['category'] = list_category"
   ]
  },
  {
   "cell_type": "code",
   "execution_count": 20,
   "metadata": {},
   "outputs": [],
   "source": [
    "wayone['text'] = list_description"
   ]
  },
  {
   "cell_type": "code",
   "execution_count": 21,
   "metadata": {},
   "outputs": [],
   "source": [
    "wayone['pubDate'] = list_pubdate"
   ]
  },
  {
   "cell_type": "code",
   "execution_count": null,
   "metadata": {},
   "outputs": [],
   "source": []
  },
  {
   "cell_type": "code",
   "execution_count": null,
   "metadata": {},
   "outputs": [],
   "source": []
  },
  {
   "cell_type": "markdown",
   "metadata": {},
   "source": [
    "# Cleaning Our Article and Find Word Freqency"
   ]
  },
  {
   "cell_type": "code",
   "execution_count": 22,
   "metadata": {},
   "outputs": [
    {
     "data": {
      "text/plain": [
       "0    [\\r\\n\\r\\n\\r\\n\\r\\n\\r\\n\\r\\nThis week we answer a...\n",
       "Name: text, dtype: object"
      ]
     },
     "execution_count": 22,
     "metadata": {},
     "output_type": "execute_result"
    }
   ],
   "source": [
    "wayone['text'].head(1)"
   ]
  },
  {
   "cell_type": "code",
   "execution_count": 23,
   "metadata": {},
   "outputs": [],
   "source": [
    "wayone['cleantext'] = wayone['text'].map(lambda x: x.lower())"
   ]
  },
  {
   "cell_type": "code",
   "execution_count": 24,
   "metadata": {},
   "outputs": [],
   "source": [
    "wayone['cleantext']= wayone['cleantext'].str.replace('[^\\w\\s]', ' ')"
   ]
  },
  {
   "cell_type": "code",
   "execution_count": 25,
   "metadata": {},
   "outputs": [],
   "source": [
    "def remove(list): \n",
    "    pattern = '[0-9]'\n",
    "    list = [re.sub(pattern, '', i) for i in list] \n",
    "    return list"
   ]
  },
  {
   "cell_type": "code",
   "execution_count": 26,
   "metadata": {},
   "outputs": [],
   "source": [
    "wayone['cleantext'] = remove(wayone['cleantext'])"
   ]
  },
  {
   "cell_type": "code",
   "execution_count": null,
   "metadata": {},
   "outputs": [],
   "source": []
  },
  {
   "cell_type": "code",
   "execution_count": 27,
   "metadata": {},
   "outputs": [],
   "source": [
    "from nltk.corpus import stopwords"
   ]
  },
  {
   "cell_type": "code",
   "execution_count": 28,
   "metadata": {},
   "outputs": [],
   "source": [
    "stpwords =  stopwords.words(\"english\")"
   ]
  },
  {
   "cell_type": "code",
   "execution_count": 29,
   "metadata": {},
   "outputs": [],
   "source": [
    "wayone['cleantext'] = wayone['cleantext'].apply(lambda x: \" \".join(word for word in x.split() if word not in stpwords))"
   ]
  },
  {
   "cell_type": "code",
   "execution_count": 30,
   "metadata": {},
   "outputs": [
    {
     "data": {
      "text/plain": [
       "5"
      ]
     },
     "execution_count": 30,
     "metadata": {},
     "output_type": "execute_result"
    }
   ],
   "source": [
    "stpwords2 = ['n','adj','adv','v','u']\n",
    "len(stpwords2)"
   ]
  },
  {
   "cell_type": "code",
   "execution_count": 31,
   "metadata": {},
   "outputs": [],
   "source": [
    "wayone['cleantext'] = wayone['cleantext'].apply(lambda x: \" \".join(word for word in x.split() if word not in stpwords2))"
   ]
  },
  {
   "cell_type": "code",
   "execution_count": 32,
   "metadata": {},
   "outputs": [
    {
     "data": {
      "text/html": [
       "<div>\n",
       "<style scoped>\n",
       "    .dataframe tbody tr th:only-of-type {\n",
       "        vertical-align: middle;\n",
       "    }\n",
       "\n",
       "    .dataframe tbody tr th {\n",
       "        vertical-align: top;\n",
       "    }\n",
       "\n",
       "    .dataframe thead th {\n",
       "        text-align: right;\n",
       "    }\n",
       "</style>\n",
       "<table border=\"1\" class=\"dataframe\">\n",
       "  <thead>\n",
       "    <tr style=\"text-align: right;\">\n",
       "      <th></th>\n",
       "      <th>0</th>\n",
       "      <th>category</th>\n",
       "      <th>text</th>\n",
       "      <th>pubDate</th>\n",
       "      <th>cleantext</th>\n",
       "    </tr>\n",
       "  </thead>\n",
       "  <tbody>\n",
       "    <tr>\n",
       "      <th>0</th>\n",
       "      <td>[Trust or Believe?]</td>\n",
       "      <td>[Ask a Teacher, Read, Listen &amp;amp; Learn, Ask ...</td>\n",
       "      <td>[\\r\\n\\r\\n\\r\\n\\r\\n\\r\\n\\r\\nThis week we answer a...</td>\n",
       "      <td>[Fri, 22 Nov 2019 23:02:06 +0000]</td>\n",
       "      <td>week answer question reza bangladesh reza writ...</td>\n",
       "    </tr>\n",
       "    <tr>\n",
       "      <th>1</th>\n",
       "      <td>['Two Thanksgiving Day Gentlemen,' by O. Henry]</td>\n",
       "      <td>[American Stories, Read, Listen &amp;amp; Learn, A...</td>\n",
       "      <td>[\\r\\n\\r\\nWe present the short story \"Two Thank...</td>\n",
       "      <td>[Fri, 22 Nov 2019 23:00:16 +0000]</td>\n",
       "      <td>present short story two thanksgiving day gentl...</td>\n",
       "    </tr>\n",
       "    <tr>\n",
       "      <th>2</th>\n",
       "      <td>[Balloon Festivals Celebrate First Method of H...</td>\n",
       "      <td>[Arts &amp;amp; Culture, Read, Listen &amp;amp; Learn,...</td>\n",
       "      <td>[\\r\\n\\r\\n \\r\\n\\r\\n\\r\\nThe path of human aviati...</td>\n",
       "      <td>[Fri, 22 Nov 2019 22:58:09 +0000]</td>\n",
       "      <td>path human aviation uneven dangerous ancient s...</td>\n",
       "    </tr>\n",
       "    <tr>\n",
       "      <th>3</th>\n",
       "      <td>[South Koreans Take Part in ‘Living Funerals’ ...</td>\n",
       "      <td>[As It Is, Read, Listen &amp;amp; Learn, As It Is]</td>\n",
       "      <td>[\\r\\n\\r\\n \\r\\n\\r\\n\\r\\nThousands of South Korea...</td>\n",
       "      <td>[Fri, 22 Nov 2019 22:57:50 +0000]</td>\n",
       "      <td>thousands south koreans taken part living fune...</td>\n",
       "    </tr>\n",
       "    <tr>\n",
       "      <th>4</th>\n",
       "      <td>[Usain Bolt Brings His E-Scooters to Japan]</td>\n",
       "      <td>[As It Is, Read, Listen &amp;amp; Learn, As It Is]</td>\n",
       "      <td>[\\r\\n\\r\\n\\r\\n\\r\\nOlympic gold medalist Usain B...</td>\n",
       "      <td>[Fri, 22 Nov 2019 22:56:57 +0000]</td>\n",
       "      <td>olympic gold medalist usain bolt co founded co...</td>\n",
       "    </tr>\n",
       "  </tbody>\n",
       "</table>\n",
       "</div>"
      ],
      "text/plain": [
       "                                                   0  \\\n",
       "0                                [Trust or Believe?]   \n",
       "1    ['Two Thanksgiving Day Gentlemen,' by O. Henry]   \n",
       "2  [Balloon Festivals Celebrate First Method of H...   \n",
       "3  [South Koreans Take Part in ‘Living Funerals’ ...   \n",
       "4        [Usain Bolt Brings His E-Scooters to Japan]   \n",
       "\n",
       "                                            category  \\\n",
       "0  [Ask a Teacher, Read, Listen &amp; Learn, Ask ...   \n",
       "1  [American Stories, Read, Listen &amp; Learn, A...   \n",
       "2  [Arts &amp; Culture, Read, Listen &amp; Learn,...   \n",
       "3     [As It Is, Read, Listen &amp; Learn, As It Is]   \n",
       "4     [As It Is, Read, Listen &amp; Learn, As It Is]   \n",
       "\n",
       "                                                text  \\\n",
       "0  [\\r\\n\\r\\n\\r\\n\\r\\n\\r\\n\\r\\nThis week we answer a...   \n",
       "1  [\\r\\n\\r\\nWe present the short story \"Two Thank...   \n",
       "2  [\\r\\n\\r\\n \\r\\n\\r\\n\\r\\nThe path of human aviati...   \n",
       "3  [\\r\\n\\r\\n \\r\\n\\r\\n\\r\\nThousands of South Korea...   \n",
       "4  [\\r\\n\\r\\n\\r\\n\\r\\nOlympic gold medalist Usain B...   \n",
       "\n",
       "                             pubDate  \\\n",
       "0  [Fri, 22 Nov 2019 23:02:06 +0000]   \n",
       "1  [Fri, 22 Nov 2019 23:00:16 +0000]   \n",
       "2  [Fri, 22 Nov 2019 22:58:09 +0000]   \n",
       "3  [Fri, 22 Nov 2019 22:57:50 +0000]   \n",
       "4  [Fri, 22 Nov 2019 22:56:57 +0000]   \n",
       "\n",
       "                                           cleantext  \n",
       "0  week answer question reza bangladesh reza writ...  \n",
       "1  present short story two thanksgiving day gentl...  \n",
       "2  path human aviation uneven dangerous ancient s...  \n",
       "3  thousands south koreans taken part living fune...  \n",
       "4  olympic gold medalist usain bolt co founded co...  "
      ]
     },
     "execution_count": 32,
     "metadata": {},
     "output_type": "execute_result"
    }
   ],
   "source": [
    "wayone.head()"
   ]
  },
  {
   "cell_type": "code",
   "execution_count": 35,
   "metadata": {},
   "outputs": [],
   "source": [
    "pd.options.display.max_colwidth=100"
   ]
  },
  {
   "cell_type": "code",
   "execution_count": null,
   "metadata": {},
   "outputs": [],
   "source": []
  },
  {
   "cell_type": "code",
   "execution_count": 50,
   "metadata": {},
   "outputs": [
    {
     "data": {
      "text/plain": [
       "<matplotlib.axes._subplots.AxesSubplot at 0x23c7689a7b8>"
      ]
     },
     "execution_count": 50,
     "metadata": {},
     "output_type": "execute_result"
    },
    {
     "data": {
      "image/png": "[encoded data removed]",
      "text/plain": [
       "<Figure size 1080x360 with 1 Axes>"
      ]
     },
     "metadata": {
      "needs_background": "light"
     },
     "output_type": "display_data"
    }
   ],
   "source": [
    "wayone.plot(figsize=(15,5))"
   ]
  },
  {
   "cell_type": "code",
   "execution_count": null,
   "metadata": {},
   "outputs": [],
   "source": []
  },
  {
   "cell_type": "code",
   "execution_count": 38,
   "metadata": {},
   "outputs": [],
   "source": [
    "wayone['num_words'] = wayone['cleantext'].apply(lambda x: len(x.split()))"
   ]
  },
  {
   "cell_type": "code",
   "execution_count": 39,
   "metadata": {},
   "outputs": [
    {
     "data": {
      "text/plain": [
       "Text(0, 0.5, 'Repetation')"
      ]
     },
     "execution_count": 39,
     "metadata": {},
     "output_type": "execute_result"
    },
    {
     "data": {
      "image/png": "[encoded data removed]",
      "text/plain": [
       "<Figure size 1728x864 with 1 Axes>"
      ]
     },
     "metadata": {
      "needs_background": "light"
     },
     "output_type": "display_data"
    }
   ],
   "source": [
    "ax = wayone['num_words'].plot(kind='bar', figsize=(24,12))\n",
    "ax.set_title('Number of Words Per Article', fontsize=24)\n",
    "ax.set_xlabel('Article', fontsize=16)\n",
    "ax.set_ylabel('Repetation', fontsize=16)"
   ]
  },
  {
   "cell_type": "code",
   "execution_count": null,
   "metadata": {},
   "outputs": [],
   "source": []
  },
  {
   "cell_type": "code",
   "execution_count": 40,
   "metadata": {},
   "outputs": [],
   "source": [
    "wayone['uniq_words'] = wayone['cleantext'].str.split().apply(lambda x: len(set(x)))"
   ]
  },
  {
   "cell_type": "code",
   "execution_count": 41,
   "metadata": {},
   "outputs": [
    {
     "data": {
      "text/plain": [
       "Text(0, 0.5, 'Word Count')"
      ]
     },
     "execution_count": 41,
     "metadata": {},
     "output_type": "execute_result"
    },
    {
     "data": {
      "image/png": "[encoded data removed]",
      "text/plain": [
       "<Figure size 1728x864 with 1 Axes>"
      ]
     },
     "metadata": {
      "needs_background": "light"
     },
     "output_type": "display_data"
    }
   ],
   "source": [
    "ax = wayone['uniq_words'].plot(kind='bar', figsize=(24,12))\n",
    "ax.set_title('Uniqe Words Per Article', fontsize=24)\n",
    "ax.set_xlabel('Article', fontsize=16)\n",
    "ax.set_ylabel('Word Count', fontsize=16)"
   ]
  },
  {
   "cell_type": "code",
   "execution_count": 42,
   "metadata": {},
   "outputs": [],
   "source": [
    "from collections import Counter"
   ]
  },
  {
   "cell_type": "code",
   "execution_count": 43,
   "metadata": {},
   "outputs": [],
   "source": [
    "wordCount = Counter()\n",
    "for i, row in wayone.iterrows():\n",
    "    wordCount.update(row['cleantext'].split())"
   ]
  },
  {
   "cell_type": "code",
   "execution_count": 44,
   "metadata": {},
   "outputs": [
    {
     "data": {
      "text/plain": [
       "[('said', 90),\n",
       " ('story', 49),\n",
       " ('people', 44),\n",
       " ('old', 42),\n",
       " ('year', 39),\n",
       " ('also', 34),\n",
       " ('something', 33),\n",
       " ('one', 31),\n",
       " ('years', 31),\n",
       " ('words', 30),\n",
       " ('two', 26),\n",
       " ('lol', 26),\n",
       " ('know', 25),\n",
       " ('day', 25),\n",
       " ('stuffy', 25),\n",
       " ('gentleman', 25),\n",
       " ('students', 25),\n",
       " ('english', 24),\n",
       " ('e', 24),\n",
       " ('new', 23)]"
      ]
     },
     "execution_count": 44,
     "metadata": {},
     "output_type": "execute_result"
    }
   ],
   "source": [
    "wordCount.most_common(20)"
   ]
  },
  {
   "cell_type": "code",
   "execution_count": 45,
   "metadata": {},
   "outputs": [],
   "source": [
    "top_words=wordCount.most_common(25)"
   ]
  },
  {
   "cell_type": "code",
   "execution_count": 46,
   "metadata": {},
   "outputs": [],
   "source": [
    "top_words = dict(top_words)\n",
    "names = list(top_words.keys())\n",
    "values = list(top_words.values())"
   ]
  },
  {
   "cell_type": "code",
   "execution_count": null,
   "metadata": {},
   "outputs": [],
   "source": []
  },
  {
   "cell_type": "code",
   "execution_count": 48,
   "metadata": {},
   "outputs": [
    {
     "data": {
      "image/png": "[encoded data removed]",
      "text/plain": [
       "<Figure size 1800x720 with 1 Axes>"
      ]
     },
     "metadata": {
      "needs_background": "light"
     },
     "output_type": "display_data"
    }
   ],
   "source": [
    "plt.bar(range(len(top_words)),values,tick_label=names, color='purple')\n",
    "plt.savefig('bar.png')\n",
    "plt.title(\"Overall Frequency of Top 25 Uniqe Words\", fontsize=24)\n",
    "plt.xlabel(\"Uniqe Words\", fontsize=24, color='red')\n",
    "plt.ylabel(\"Counts of Words\", fontsize=24, color='red')\n",
    "fig_size = plt.rcParams[\"figure.figsize\"]\n",
    "fig_size[0] = 25\n",
    "fig_size[1] = 10\n",
    "plt.rcParams[\"figure.figsize\"] = fig_size\n",
    "plt.show()"
   ]
  },
  {
   "cell_type": "code",
   "execution_count": null,
   "metadata": {},
   "outputs": [],
   "source": []
  },
  {
   "cell_type": "code",
   "execution_count": 49,
   "metadata": {},
   "outputs": [],
   "source": [
    "wayone.to_csv('cleaned_data_voa.csv')"
   ]
  },
  {
   "cell_type": "code",
   "execution_count": null,
   "metadata": {},
   "outputs": [],
   "source": []
  },
  {
   "cell_type": "code",
   "execution_count": null,
   "metadata": {},
   "outputs": [],
   "source": []
  },
  {
   "cell_type": "code",
   "execution_count": null,
   "metadata": {},
   "outputs": [],
   "source": []
  },
  {
   "cell_type": "code",
   "execution_count": null,
   "metadata": {},
   "outputs": [],
   "source": []
  },
  {
   "cell_type": "code",
   "execution_count": null,
   "metadata": {},
   "outputs": [],
   "source": []
  },
  {
   "cell_type": "code",
   "execution_count": null,
   "metadata": {},
   "outputs": [],
   "source": []
  }
 ],
 "metadata": {
  "kernelspec": {
   "display_name": "Python 3",
   "language": "python",
   "name": "python3"
  },
  "language_info": {
   "codemirror_mode": {
    "name": "ipython",
    "version": 3
   },
   "file_extension": ".py",
   "mimetype": "text/x-python",
   "name": "python",
   "nbconvert_exporter": "python",
   "pygments_lexer": "ipython3",
   "version": "3.7.3"
  }
 },
 "nbformat": 4,
 "nbformat_minor": 2
}
